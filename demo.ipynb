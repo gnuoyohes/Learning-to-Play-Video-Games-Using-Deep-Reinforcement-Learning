{
 "cells": [
  {
   "cell_type": "code",
   "execution_count": 2,
   "metadata": {},
   "outputs": [],
   "source": [
    "%matplotlib inline\n",
    "import math\n",
    "import os\n",
    "import random\n",
    "import atari_py\n",
    "import numpy as np\n",
    "import tensorflow as tf\n",
    "import matplotlib.pyplot as plt\n",
    "from datetime import datetime"
   ]
  },
  {
   "cell_type": "code",
   "execution_count": 3,
   "metadata": {},
   "outputs": [
    {
     "name": "stdout",
     "output_type": "stream",
     "text": [
      "dir exists\n"
     ]
    }
   ],
   "source": [
    "pong_path = atari_py.get_game_path('pong')\n",
    "ale = atari_py.ALEInterface()\n",
    "ale.loadROM(pong_path)\n",
    "action_set = ale.getMinimalActionSet()\n",
    "(screen_width,screen_height) = ale.getScreenDims()\n",
    "arr = np.zeros((screen_height, screen_width, 4), dtype=np.uint8)\n",
    "frame_dir=\"out\"\n",
    "os.makedirs(frame_dir) if not os.path.isdir(frame_dir) else print(\"dir exists\")"
   ]
  },
  {
   "cell_type": "code",
   "execution_count": 4,
   "metadata": {},
   "outputs": [
    {
     "name": "stdout",
     "output_type": "stream",
     "text": [
      "(?, 53, 40, 32)\n",
      "(?, 27, 20, 64)\n",
      "(?, 27, 20, 64)\n",
      "(?, 34560)\n",
      "(?, 512)\n",
      "(?, 6)\n"
     ]
    }
   ],
   "source": [
    "# build graph for network\n",
    "# raw input from atari game\n",
    "X=tf.placeholder(tf.float32,[None,screen_height,screen_width,3])\n",
    "\n",
    "# first conv block\n",
    "conv2d_1=tf.contrib.layers.conv2d(X,32,8,stride=4,activation_fn=None)\n",
    "conv2d_1=tf.nn.relu(conv2d_1)\n",
    "print(conv2d_1.shape)\n",
    "\n",
    "# second conv block\n",
    "conv2d_2=tf.contrib.layers.conv2d(conv2d_1,64,4,stride=2,activation_fn=None)\n",
    "conv2d_2=tf.nn.relu(conv2d_2)\n",
    "print(conv2d_2.shape)\n",
    "\n",
    "# third conv block\n",
    "conv2d_3=tf.contrib.layers.conv2d(conv2d_2,64,3,stride=1,activation_fn=None)\n",
    "conv2d_3=tf.nn.relu(conv2d_3)\n",
    "print(conv2d_3.shape)\n",
    "\n",
    "# flatten out the tensor to a vector\n",
    "flat_output=tf.contrib.layers.flatten(conv2d_3)\n",
    "print(flat_output.shape)\n",
    "\n",
    "# final hidden layer\n",
    "fc_output=tf.contrib.layers.fully_connected(flat_output,512,activation_fn=None)\n",
    "fc_output=tf.nn.relu(fc_output)\n",
    "print(fc_output.shape)\n",
    "\n",
    "#output layer for an arbitry number n of actions\n",
    "num_of_actions=len(action_set)\n",
    "output=tf.contrib.layers.fully_connected(fc_output,num_of_actions,activation_fn=None)\n",
    "print(output.shape)"
   ]
  },
  {
   "cell_type": "code",
   "execution_count": 43,
   "metadata": {},
   "outputs": [
    {
     "data": {
      "image/png": "[encoded data removed]",
      "text/plain": [
       "<matplotlib.figure.Figure at 0x11e9f8550>"
      ]
     },
     "metadata": {},
     "output_type": "display_data"
    },
    {
     "data": {
      "image/png": "[encoded data removed]",
      "text/plain": [
       "<matplotlib.figure.Figure at 0x11ec7c668>"
      ]
     },
     "metadata": {},
     "output_type": "display_data"
    }
   ],
   "source": [
    "os.system(\"sh clean.sh\")\n",
    "arr_rgb = np.zeros((screen_height, screen_width, 3), dtype=np.uint8)\n",
    "ale.reset_game()\n",
    "sess=tf.InteractiveSession()\n",
    "tf.global_variables_initializer().run()\n",
    "\n",
    "steps=1\n",
    "for i in range(steps):\n",
    "    frames=[]\n",
    "    for i in range(4):\n",
    "        ale.getScreenRGB2(arr_rgb)\n",
    "        frames.append(arr_rgb)\n",
    "    plt.imshow(arr_rgb)\n",
    "    frames=np.stack(frames)\n",
    "    fd={X:frames}\n",
    "    actions=sess.run([output],fd)[0]\n",
    "    plt.figure()\n",
    "    plt.plot(actions[0])"
   ]
  },
  {
   "cell_type": "code",
   "execution_count": null,
   "metadata": {},
   "outputs": [],
   "source": []
  },
  {
   "cell_type": "code",
   "execution_count": null,
   "metadata": {},
   "outputs": [],
   "source": []
  },
  {
   "cell_type": "code",
   "execution_count": null,
   "metadata": {},
   "outputs": [],
   "source": []
  }
 ],
 "metadata": {
  "kernelspec": {
   "display_name": "Python 3",
   "language": "python",
   "name": "python3"
  },
  "language_info": {
   "codemirror_mode": {
    "name": "ipython",
    "version": 3
   },
   "file_extension": ".py",
   "mimetype": "text/x-python",
   "name": "python",
   "nbconvert_exporter": "python",
   "pygments_lexer": "ipython3",
   "version": "3.6.2"
  }
 },
 "nbformat": 4,
 "nbformat_minor": 2
}

{
 "cells": [
  {
   "cell_type": "code",
   "execution_count": 1,
   "metadata": {},
   "outputs": [],
   "source": [
    "# import needed modules\n",
    "import tensorflow as tf\n",
    "\n",
    "# mode of tensorflows execution \n",
    "import tensorflow.contrib.eager as tfe\n",
    "tfe.enable_eager_execution()"
   ]
  },
  {
   "cell_type": "code",
   "execution_count": null,
   "metadata": {},
   "outputs": [],
   "source": [
    "# load dataset"
   ]
  },
  {
   "cell_type": "code",
   "execution_count": 12,
   "metadata": {},
   "outputs": [
    {
     "name": "stdout",
     "output_type": "stream",
     "text": [
      "(4, 84, 84, 1)\n",
      "(4, 21, 21, 32)\n",
      "(4, 11, 11, 64)\n",
      "(4, 11, 11, 64)\n",
      "(4, 7744)\n",
      "(4, 512)\n",
      "(4, 18)\n"
     ]
    }
   ],
   "source": [
    "# raw input from atari game\n",
    "raw_input=tf.random_normal([1,210,160,3])\n",
    "\n",
    "# batch processing\n",
    "X_0=tf.random_normal([84,84,1]) \n",
    "X_1=tf.random_normal([84,84,1])\n",
    "X_2=tf.random_normal([84,84,1])\n",
    "X_3=tf.random_normal([84,84,1])\n",
    "X=tf.stack((X_0,X_1,X_2,X_3))\n",
    "\n",
    "print(X.shape)\n",
    "\n",
    "# first conv block\n",
    "X=tf.contrib.layers.conv2d(X,32,8,stride=4,activation_fn=None)\n",
    "X=tf.nn.relu(X)\n",
    "print(X.shape)\n",
    "\n",
    "# second conv block\n",
    "X=tf.contrib.layers.conv2d(X,64,4,stride=2,activation_fn=None)\n",
    "X=tf.nn.relu(X)\n",
    "print(X.shape)\n",
    "\n",
    "# third conv block\n",
    "X=tf.contrib.layers.conv2d(X,64,3,stride=1,activation_fn=None)\n",
    "X=tf.nn.relu(X)\n",
    "print(X.shape)\n",
    "\n",
    "# flatten out the tensor to a vector\n",
    "X=tf.contrib.layers.flatten(X)\n",
    "print(X.shape)\n",
    "\n",
    "# final hidden layer\n",
    "X=tf.contrib.layers.fully_connected(X,512,activation_fn=None)\n",
    "X=tf.nn.relu(X)\n",
    "print(X.shape)\n",
    "\n",
    "#output layer for an arbitry number n of actions\n",
    "n=18\n",
    "X=tf.contrib.layers.fully_connected(X,n,activation_fn=None)\n",
    "print(X.shape)"
   ]
  }
 ],
 "metadata": {
  "kernelspec": {
   "display_name": "Python 3",
   "language": "python",
   "name": "python3"
  },
  "language_info": {
   "codemirror_mode": {
    "name": "ipython",
    "version": 3
   },
   "file_extension": ".py",
   "mimetype": "text/x-python",
   "name": "python",
   "nbconvert_exporter": "python",
   "pygments_lexer": "ipython3",
   "version": "3.6.2"
  }
 },
 "nbformat": 4,
 "nbformat_minor": 2
}

{
 "cells": [
  {
   "cell_type": "code",
   "execution_count": 2,
   "metadata": {},
   "outputs": [],
   "source": [
    "%matplotlib inline\n",
    "import math\n",
    "import os\n",
    "import sys\n",
    "import random\n",
    "import atari_py\n",
    "import numpy as np\n",
    "import tensorflow as tf\n",
    "import matplotlib.pyplot as plt\n",
    "from datetime import datetime"
   ]
  },
  {
   "cell_type": "code",
   "execution_count": 3,
   "metadata": {},
   "outputs": [],
   "source": [
    "from PIL import Image\n",
    "f=np.random.randint(0,256,[4,210,160,3]).astype(np.uint8)"
   ]
  },
  {
   "cell_type": "code",
   "execution_count": 4,
   "metadata": {},
   "outputs": [],
   "source": [
    "from network import network"
   ]
  },
  {
   "cell_type": "code",
   "execution_count": 5,
   "metadata": {},
   "outputs": [],
   "source": [
    "f=network.preprocess(None,f)"
   ]
  },
  {
   "cell_type": "code",
   "execution_count": 7,
   "metadata": {},
   "outputs": [
    {
     "data": {
      "text/plain": [
       "(210, 160, 4)"
      ]
     },
     "execution_count": 7,
     "metadata": {},
     "output_type": "execute_result"
    }
   ],
   "source": [
    "f.shape"
   ]
  },
  {
   "cell_type": "code",
   "execution_count": null,
   "metadata": {},
   "outputs": [],
   "source": [
    "game='pong'\n",
    "ale = atari_py.ALEInterface()\n",
    "ale.loadROM(atari_py.get_game_path(game))\n",
    "(screen_width,screen_height) = ale.getScreenDims()\n",
    "num_of_actions=len(ale.getMinimalActionSet())"
   ]
  },
  {
   "cell_type": "code",
   "execution_count": null,
   "metadata": {},
   "outputs": [],
   "source": [
    "# build graph for network\n",
    "# raw input from atari game\n",
    "net_input=tf.placeholder(tf.float32,[None,screen_height,screen_width,3])\n",
    "\n",
    "# first conv block\n",
    "conv2d_1=tf.contrib.layers.conv2d(net_input,32,8,stride=4,activation_fn=None)\n",
    "conv2d_1=tf.nn.relu(conv2d_1)\n",
    "print(conv2d_1.shape)\n",
    "\n",
    "# second conv block\n",
    "conv2d_2=tf.contrib.layers.conv2d(conv2d_1,64,4,stride=2,activation_fn=None)\n",
    "conv2d_2=tf.nn.relu(conv2d_2)\n",
    "print(conv2d_2.shape)\n",
    "\n",
    "# third conv block\n",
    "conv2d_3=tf.contrib.layers.conv2d(conv2d_2,64,3,stride=1,activation_fn=None)\n",
    "conv2d_3=tf.nn.relu(conv2d_3)\n",
    "print(conv2d_3.shape)\n",
    "\n",
    "# flatten out the tensor to a vector\n",
    "flat_output=tf.contrib.layers.flatten(conv2d_3)\n",
    "print(flat_output.shape)\n",
    "\n",
    "# final hidden layer\n",
    "fc_output=tf.contrib.layers.fully_connected(flat_output,512,activation_fn=None)\n",
    "fc_output=tf.nn.relu(fc_output)\n",
    "print(fc_output.shape)\n",
    "\n",
    "#output layer for an arbitry number n of actions\n",
    "q_predicted=tf.contrib.layers.fully_connected(fc_output,num_of_actions,activation_fn=None)\n",
    "print(q_predicted.shape)\n",
    "\n",
    "# loss\n",
    "q_target=tf.placeholder(shape=[None,num_of_actions],dtype=tf.float32)\n",
    "print(q_target.shape)\n",
    "loss=tf.reduce_sum(tf.square(q_target-q_predicted))\n",
    "optimier=tf.train.GradientDescentOptimizer(0.1).minimize(loss)"
   ]
  },
  {
   "cell_type": "code",
   "execution_count": null,
   "metadata": {},
   "outputs": [],
   "source": [
    "\n",
    "\n",
    "experince_replay= # get from sheo\n",
    "\n",
    "fd={net_input:cur_frames}\n",
    "cur_Q=sess.run([q_predicted],fd)[0]\n",
    "\n",
    "fd={net_input:target_frames}\n",
    "target_Q=sess.run([q_predicted],fd)[0]\n",
    "\n",
    "fd={net_input:cur_frames,q_target:target_Q}\n",
    "l=sess.run([loss],fd)[0]"
   ]
  },
  {
   "cell_type": "code",
   "execution_count": null,
   "metadata": {},
   "outputs": [],
   "source": [
    "# arr_rgb = np.zeros((screen_height, screen_width, 3), dtype=np.uint8)\n",
    "# ale.reset_game()\n",
    "\n",
    "# arr = np.zeros((screen_height, screen_width, 4), dtype=np.uint8)\n",
    "# frame_dir=\"out\"\n",
    "# if not os.path.isdir(frame_dir): os.makedirs(frame_dir)\n",
    "# else: print(\"dir exists\")\n",
    "    \n",
    "# steps=1\n",
    "# for i in range(steps):\n",
    "#     frames=[]\n",
    "#     for i in range(4):\n",
    "#         ale.getScreenRGB2(arr_rgb)\n",
    "#         frames.append(arr_rgb)\n",
    "#     plt.imshow(arr_rgb)\n",
    "#     frames=np.stack(frames)"
   ]
  }
 ],
 "metadata": {
  "kernelspec": {
   "display_name": "Python 3",
   "language": "python",
   "name": "python3"
  },
  "language_info": {
   "codemirror_mode": {
    "name": "ipython",
    "version": 3
   },
   "file_extension": ".py",
   "mimetype": "text/x-python",
   "name": "python",
   "nbconvert_exporter": "python",
   "pygments_lexer": "ipython3",
   "version": "3.6.2"
  }
 },
 "nbformat": 4,
 "nbformat_minor": 2
}
